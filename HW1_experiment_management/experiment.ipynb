{
 "cells": [
  {
   "cell_type": "code",
   "execution_count": 38,
   "metadata": {
    "colab": {
     "base_uri": "https://localhost:8080/"
    },
    "id": "ZCyls3aChATa",
    "outputId": "fb932eb8-246f-4ea9-c36d-7c88b6965064"
   },
   "outputs": [],
   "source": [
    "!pip3 install spacy -q\n",
    "!pip3 install optuna -q\n",
    "!pip3 install dvclive -q"
   ]
  },
  {
   "cell_type": "code",
   "execution_count": 55,
   "metadata": {
    "id": "t4kUe3LzZwcm"
   },
   "outputs": [],
   "source": [
    "import pandas as pd\n",
    "import spacy\n",
    "import optuna\n",
    "import joblib\n",
    "\n",
    "from sklearn.model_selection import train_test_split\n",
    "from sklearn.pipeline import Pipeline\n",
    "from sklearn.feature_extraction.text import TfidfVectorizer\n",
    "from sklearn.linear_model import LogisticRegression\n",
    "from sklearn.metrics import f1_score, recall_score, precision_score\n",
    "from dvclive import Live\n",
    "\n",
    "import warnings\n",
    "warnings.filterwarnings(\"ignore\")"
   ]
  },
  {
   "cell_type": "code",
   "execution_count": 40,
   "metadata": {
    "id": "5fwokdYcaRE-"
   },
   "outputs": [],
   "source": [
    "DATAPATH = 'data/'\n",
    "SEED = 53"
   ]
  },
  {
   "cell_type": "code",
   "execution_count": 41,
   "metadata": {
    "colab": {
     "base_uri": "https://localhost:8080/",
     "height": 143
    },
    "id": "bZ9ShFtWZwcn",
    "outputId": "d73af6d9-693c-40c3-cd57-10a29b07697d"
   },
   "outputs": [
    {
     "data": {
      "text/html": [
       "<div>\n",
       "<style scoped>\n",
       "    .dataframe tbody tr th:only-of-type {\n",
       "        vertical-align: middle;\n",
       "    }\n",
       "\n",
       "    .dataframe tbody tr th {\n",
       "        vertical-align: top;\n",
       "    }\n",
       "\n",
       "    .dataframe thead th {\n",
       "        text-align: right;\n",
       "    }\n",
       "</style>\n",
       "<table border=\"1\" class=\"dataframe\">\n",
       "  <thead>\n",
       "    <tr style=\"text-align: right;\">\n",
       "      <th></th>\n",
       "      <th>comment</th>\n",
       "      <th>isHate</th>\n",
       "    </tr>\n",
       "  </thead>\n",
       "  <tbody>\n",
       "    <tr>\n",
       "      <th>0</th>\n",
       "      <td>You should know women's sports are a joke</td>\n",
       "      <td>1.0</td>\n",
       "    </tr>\n",
       "    <tr>\n",
       "      <th>1</th>\n",
       "      <td>You look like Sloth with deeper Down’s syndrome</td>\n",
       "      <td>1.0</td>\n",
       "    </tr>\n",
       "    <tr>\n",
       "      <th>2</th>\n",
       "      <td>You look like Russian and speak like Indian. B...</td>\n",
       "      <td>1.0</td>\n",
       "    </tr>\n",
       "  </tbody>\n",
       "</table>\n",
       "</div>"
      ],
      "text/plain": [
       "                                             comment  isHate\n",
       "0          You should know women's sports are a joke     1.0\n",
       "1    You look like Sloth with deeper Down’s syndrome     1.0\n",
       "2  You look like Russian and speak like Indian. B...     1.0"
      ]
     },
     "execution_count": 41,
     "metadata": {},
     "output_type": "execute_result"
    }
   ],
   "source": [
    "data = pd.read_csv(DATAPATH + 'Ethos_Dataset_Binary.csv', delimiter=';')\n",
    "data.head(3)"
   ]
  },
  {
   "cell_type": "markdown",
   "metadata": {
    "id": "hyIM6L4WhnII"
   },
   "source": [
    "## Data preprocessing"
   ]
  },
  {
   "cell_type": "code",
   "execution_count": 42,
   "metadata": {
    "colab": {
     "base_uri": "https://localhost:8080/"
    },
    "id": "nJZStnx0yGdL",
    "outputId": "f6c3b538-cee5-47ee-e013-dc050c7dcfd3"
   },
   "outputs": [
    {
     "data": {
      "text/plain": [
       "isHate\n",
       "0.000000    354\n",
       "1.000000    163\n",
       "0.166667    106\n",
       "0.833333    100\n",
       "0.333333     80\n",
       "Name: count, dtype: int64"
      ]
     },
     "execution_count": 42,
     "metadata": {},
     "output_type": "execute_result"
    }
   ],
   "source": [
    "data['isHate'].value_counts().iloc[:5]"
   ]
  },
  {
   "cell_type": "markdown",
   "metadata": {
    "id": "C0osQ9De0BBE"
   },
   "source": [
    "Оставим только 0 и 1 "
   ]
  },
  {
   "cell_type": "code",
   "execution_count": 43,
   "metadata": {
    "id": "3wvJL3GhyFM6"
   },
   "outputs": [],
   "source": [
    "data = data[data['isHate'].isin([0, 1])]"
   ]
  },
  {
   "cell_type": "code",
   "execution_count": 44,
   "metadata": {
    "id": "cEXXboqU0Kx6"
   },
   "outputs": [],
   "source": [
    "train, test = train_test_split(data, stratify=data['isHate'], test_size=50, random_state=SEED)\n",
    "train, val = train_test_split(train, stratify=train['isHate'], test_size=50, random_state=SEED)"
   ]
  },
  {
   "cell_type": "code",
   "execution_count": 45,
   "metadata": {
    "colab": {
     "base_uri": "https://localhost:8080/"
    },
    "id": "adBBdIIj0lh-",
    "outputId": "dc00cddf-30b8-4b82-ad53-d5f216d9e8a0"
   },
   "outputs": [
    {
     "name": "stdout",
     "output_type": "stream",
     "text": [
      "417 50 50\n"
     ]
    }
   ],
   "source": [
    "print(train.shape[0], val.shape[0], test.shape[0])"
   ]
  },
  {
   "cell_type": "code",
   "execution_count": 46,
   "metadata": {
    "id": "nQuWovjEZwcn"
   },
   "outputs": [
    {
     "name": "stdout",
     "output_type": "stream",
     "text": [
      "Defaulting to user installation because normal site-packages is not writeable\n",
      "Collecting en-core-web-sm==3.5.0\n",
      "  Downloading https://github.com/explosion/spacy-models/releases/download/en_core_web_sm-3.5.0/en_core_web_sm-3.5.0-py3-none-any.whl (12.8 MB)\n",
      "\u001b[2K     ━━━━━━━━━━━━━━━━━━━━━━━━━━━━━━━━━━━━━━━━ 12.8/12.8 MB 25.0 MB/s eta 0:00:00\n",
      "\u001b[?25hRequirement already satisfied: spacy<3.6.0,>=3.5.0 in /Users/yuriy/Library/Python/3.9/lib/python/site-packages (from en-core-web-sm==3.5.0) (3.5.3)\n",
      "Requirement already satisfied: spacy-legacy<3.1.0,>=3.0.11 in /Users/yuriy/Library/Python/3.9/lib/python/site-packages (from spacy<3.6.0,>=3.5.0->en-core-web-sm==3.5.0) (3.0.12)\n",
      "Requirement already satisfied: spacy-loggers<2.0.0,>=1.0.0 in /Users/yuriy/Library/Python/3.9/lib/python/site-packages (from spacy<3.6.0,>=3.5.0->en-core-web-sm==3.5.0) (1.0.4)\n",
      "Requirement already satisfied: murmurhash<1.1.0,>=0.28.0 in /Users/yuriy/Library/Python/3.9/lib/python/site-packages (from spacy<3.6.0,>=3.5.0->en-core-web-sm==3.5.0) (1.0.9)\n",
      "Requirement already satisfied: cymem<2.1.0,>=2.0.2 in /Users/yuriy/Library/Python/3.9/lib/python/site-packages (from spacy<3.6.0,>=3.5.0->en-core-web-sm==3.5.0) (2.0.7)\n",
      "Requirement already satisfied: preshed<3.1.0,>=3.0.2 in /Users/yuriy/Library/Python/3.9/lib/python/site-packages (from spacy<3.6.0,>=3.5.0->en-core-web-sm==3.5.0) (3.0.8)\n",
      "Requirement already satisfied: thinc<8.2.0,>=8.1.8 in /Users/yuriy/Library/Python/3.9/lib/python/site-packages (from spacy<3.6.0,>=3.5.0->en-core-web-sm==3.5.0) (8.1.10)\n",
      "Requirement already satisfied: wasabi<1.2.0,>=0.9.1 in /Users/yuriy/Library/Python/3.9/lib/python/site-packages (from spacy<3.6.0,>=3.5.0->en-core-web-sm==3.5.0) (1.1.1)\n",
      "Requirement already satisfied: srsly<3.0.0,>=2.4.3 in /Users/yuriy/Library/Python/3.9/lib/python/site-packages (from spacy<3.6.0,>=3.5.0->en-core-web-sm==3.5.0) (2.4.6)\n",
      "Requirement already satisfied: catalogue<2.1.0,>=2.0.6 in /Users/yuriy/Library/Python/3.9/lib/python/site-packages (from spacy<3.6.0,>=3.5.0->en-core-web-sm==3.5.0) (2.0.8)\n",
      "Requirement already satisfied: typer<0.8.0,>=0.3.0 in /Users/yuriy/Library/Python/3.9/lib/python/site-packages (from spacy<3.6.0,>=3.5.0->en-core-web-sm==3.5.0) (0.7.0)\n",
      "Requirement already satisfied: pathy>=0.10.0 in /Users/yuriy/Library/Python/3.9/lib/python/site-packages (from spacy<3.6.0,>=3.5.0->en-core-web-sm==3.5.0) (0.10.1)\n",
      "Requirement already satisfied: smart-open<7.0.0,>=5.2.1 in /Users/yuriy/Library/Python/3.9/lib/python/site-packages (from spacy<3.6.0,>=3.5.0->en-core-web-sm==3.5.0) (6.3.0)\n",
      "Requirement already satisfied: tqdm<5.0.0,>=4.38.0 in /Users/yuriy/Library/Python/3.9/lib/python/site-packages (from spacy<3.6.0,>=3.5.0->en-core-web-sm==3.5.0) (4.65.0)\n",
      "Requirement already satisfied: numpy>=1.15.0 in /Users/yuriy/Library/Python/3.9/lib/python/site-packages (from spacy<3.6.0,>=3.5.0->en-core-web-sm==3.5.0) (1.24.3)\n",
      "Requirement already satisfied: requests<3.0.0,>=2.13.0 in /Users/yuriy/Library/Python/3.9/lib/python/site-packages (from spacy<3.6.0,>=3.5.0->en-core-web-sm==3.5.0) (2.31.0)\n",
      "Requirement already satisfied: pydantic!=1.8,!=1.8.1,<1.11.0,>=1.7.4 in /Users/yuriy/Library/Python/3.9/lib/python/site-packages (from spacy<3.6.0,>=3.5.0->en-core-web-sm==3.5.0) (1.10.8)\n",
      "Requirement already satisfied: jinja2 in /Users/yuriy/Library/Python/3.9/lib/python/site-packages (from spacy<3.6.0,>=3.5.0->en-core-web-sm==3.5.0) (3.1.2)\n",
      "Requirement already satisfied: setuptools in /Library/Developer/CommandLineTools/Library/Frameworks/Python3.framework/Versions/3.9/lib/python3.9/site-packages (from spacy<3.6.0,>=3.5.0->en-core-web-sm==3.5.0) (58.0.4)\n",
      "Requirement already satisfied: packaging>=20.0 in /Users/yuriy/Library/Python/3.9/lib/python/site-packages (from spacy<3.6.0,>=3.5.0->en-core-web-sm==3.5.0) (23.1)\n",
      "Requirement already satisfied: langcodes<4.0.0,>=3.2.0 in /Users/yuriy/Library/Python/3.9/lib/python/site-packages (from spacy<3.6.0,>=3.5.0->en-core-web-sm==3.5.0) (3.3.0)\n",
      "Requirement already satisfied: typing-extensions>=4.2.0 in /Users/yuriy/Library/Python/3.9/lib/python/site-packages (from pydantic!=1.8,!=1.8.1,<1.11.0,>=1.7.4->spacy<3.6.0,>=3.5.0->en-core-web-sm==3.5.0) (4.6.2)\n",
      "Requirement already satisfied: charset-normalizer<4,>=2 in /Users/yuriy/Library/Python/3.9/lib/python/site-packages (from requests<3.0.0,>=2.13.0->spacy<3.6.0,>=3.5.0->en-core-web-sm==3.5.0) (3.1.0)\n",
      "Requirement already satisfied: idna<4,>=2.5 in /Users/yuriy/Library/Python/3.9/lib/python/site-packages (from requests<3.0.0,>=2.13.0->spacy<3.6.0,>=3.5.0->en-core-web-sm==3.5.0) (3.4)\n",
      "Requirement already satisfied: urllib3<3,>=1.21.1 in /Users/yuriy/Library/Python/3.9/lib/python/site-packages (from requests<3.0.0,>=2.13.0->spacy<3.6.0,>=3.5.0->en-core-web-sm==3.5.0) (1.26.16)\n",
      "Requirement already satisfied: certifi>=2017.4.17 in /Users/yuriy/Library/Python/3.9/lib/python/site-packages (from requests<3.0.0,>=2.13.0->spacy<3.6.0,>=3.5.0->en-core-web-sm==3.5.0) (2023.5.7)\n",
      "Requirement already satisfied: blis<0.8.0,>=0.7.8 in /Users/yuriy/Library/Python/3.9/lib/python/site-packages (from thinc<8.2.0,>=8.1.8->spacy<3.6.0,>=3.5.0->en-core-web-sm==3.5.0) (0.7.9)\n",
      "Requirement already satisfied: confection<1.0.0,>=0.0.1 in /Users/yuriy/Library/Python/3.9/lib/python/site-packages (from thinc<8.2.0,>=8.1.8->spacy<3.6.0,>=3.5.0->en-core-web-sm==3.5.0) (0.0.4)\n",
      "Requirement already satisfied: click<9.0.0,>=7.1.1 in /Users/yuriy/Library/Python/3.9/lib/python/site-packages (from typer<0.8.0,>=0.3.0->spacy<3.6.0,>=3.5.0->en-core-web-sm==3.5.0) (8.1.3)\n",
      "Requirement already satisfied: MarkupSafe>=2.0 in /Users/yuriy/Library/Python/3.9/lib/python/site-packages (from jinja2->spacy<3.6.0,>=3.5.0->en-core-web-sm==3.5.0) (2.1.2)\n",
      "✔ Download and installation successful\n",
      "You can now load the package via spacy.load('en_core_web_sm')\n"
     ]
    }
   ],
   "source": [
    "spacy.cli.download(\"en_core_web_sm\")\n",
    "spacy_en = spacy.load('en_core_web_sm', disable=['parser', 'ner'])\n",
    "stopwords = spacy_en.Defaults.stop_words"
   ]
  },
  {
   "cell_type": "code",
   "execution_count": 47,
   "metadata": {
    "id": "VOB_6iacZwcn"
   },
   "outputs": [],
   "source": [
    "def prep_text(df, text_field, spc, sw=stopwords):\n",
    "    df[text_field] = df[text_field].apply(\n",
    "        lambda text: \" \".join(\n",
    "            token.lemma_ for token in spc(text)\n",
    "            if (not token.is_punct) and (token not in sw)\n",
    "        )\n",
    "    )\n",
    "    return df"
   ]
  },
  {
   "cell_type": "code",
   "execution_count": 48,
   "metadata": {
    "id": "GNkYMVVBZwco"
   },
   "outputs": [],
   "source": [
    "train = prep_text(train, \"comment\", spacy_en)\n",
    "val = prep_text(val, \"comment\", spacy_en)\n",
    "test = prep_text(test, \"comment\", spacy_en)"
   ]
  },
  {
   "cell_type": "code",
   "execution_count": 49,
   "metadata": {
    "colab": {
     "base_uri": "https://localhost:8080/",
     "height": 143
    },
    "id": "w4PpbKrNnAHF",
    "outputId": "6cc6d444-01f3-40b5-d331-5c3f207e53f7"
   },
   "outputs": [
    {
     "data": {
      "text/html": [
       "<div>\n",
       "<style scoped>\n",
       "    .dataframe tbody tr th:only-of-type {\n",
       "        vertical-align: middle;\n",
       "    }\n",
       "\n",
       "    .dataframe tbody tr th {\n",
       "        vertical-align: top;\n",
       "    }\n",
       "\n",
       "    .dataframe thead th {\n",
       "        text-align: right;\n",
       "    }\n",
       "</style>\n",
       "<table border=\"1\" class=\"dataframe\">\n",
       "  <thead>\n",
       "    <tr style=\"text-align: right;\">\n",
       "      <th></th>\n",
       "      <th>comment</th>\n",
       "      <th>isHate</th>\n",
       "    </tr>\n",
       "  </thead>\n",
       "  <tbody>\n",
       "    <tr>\n",
       "      <th>790</th>\n",
       "      <td>not only the politician be go into the wood ch...</td>\n",
       "      <td>0.0</td>\n",
       "    </tr>\n",
       "    <tr>\n",
       "      <th>945</th>\n",
       "      <td>delightful    bring back some memory    have a...</td>\n",
       "      <td>0.0</td>\n",
       "    </tr>\n",
       "    <tr>\n",
       "      <th>67</th>\n",
       "      <td>or when the man walk up to the little girl wit...</td>\n",
       "      <td>1.0</td>\n",
       "    </tr>\n",
       "  </tbody>\n",
       "</table>\n",
       "</div>"
      ],
      "text/plain": [
       "                                               comment  isHate\n",
       "790  not only the politician be go into the wood ch...     0.0\n",
       "945  delightful    bring back some memory    have a...     0.0\n",
       "67   or when the man walk up to the little girl wit...     1.0"
      ]
     },
     "execution_count": 49,
     "metadata": {},
     "output_type": "execute_result"
    }
   ],
   "source": [
    "train.head(3)"
   ]
  },
  {
   "cell_type": "markdown",
   "metadata": {
    "id": "-PWgqUXZhxap"
   },
   "source": [
    "## Results with default parameters"
   ]
  },
  {
   "cell_type": "code",
   "execution_count": 50,
   "metadata": {
    "id": "Npnyb-AqnRRS"
   },
   "outputs": [],
   "source": [
    "pipe = Pipeline([('vectorizer', TfidfVectorizer()), ('model', LogisticRegression(random_state=SEED))])\n",
    "pipe.fit(train['comment'], train['isHate'])\n",
    "val_preds = pipe.predict(val['comment'])\n",
    "test_preds = pipe.predict(test['comment'])"
   ]
  },
  {
   "cell_type": "code",
   "execution_count": 51,
   "metadata": {},
   "outputs": [
    {
     "name": "stderr",
     "output_type": "stream",
     "text": [
      "WARNING: The following untracked files were present in the workspace before saving but will not be included in the experiment commit:\n",
      "\trequirements.txt, .gitignore, .dvcignore, HW1_experiment_management/experiment.ipynb, HW1_experiment_management/data/Ethos_Dataset_Binary.csv.dvc, HW1_experiment_management/data/.gitignore, .dvc/config, .dvc/.gitignore\n"
     ]
    }
   ],
   "source": [
    "vect_params = {key: pipe['vectorizer'].get_params().get(key) for key in ['analyzer', 'ngram_range']}\n",
    "logreg_params = {key: pipe['model'].get_params().get(key) for key in ['C', 'max_iter', 'solver']}\n",
    "with Live(save_dvc_exp=True) as live:\n",
    "    for param_name, param_value in vect_params.items():\n",
    "        live.log_param(param_name, param_value)\n",
    "    for param_name, param_value in logreg_params.items():\n",
    "        live.log_param(param_name, param_value)\n",
    "    live.log_metric(\"recall\", recall_score(test['isHate'], test_preds))\n",
    "    live.log_metric(\"precision\", precision_score(test['isHate'], test_preds))\n",
    "    live.log_metric(\"f1_score\", f1_score(test['isHate'], test_preds))"
   ]
  },
  {
   "cell_type": "code",
   "execution_count": 52,
   "metadata": {
    "colab": {
     "base_uri": "https://localhost:8080/"
    },
    "id": "ijMpoVRt2e6z",
    "outputId": "158c50e4-d4be-47c0-bde8-10d97faf3c2f"
   },
   "outputs": [
    {
     "data": {
      "text/plain": [
       "0.2222222222222222"
      ]
     },
     "execution_count": 52,
     "metadata": {},
     "output_type": "execute_result"
    }
   ],
   "source": [
    "f1_score(test['isHate'], test_preds)"
   ]
  },
  {
   "cell_type": "markdown",
   "metadata": {
    "id": "siahiev_h3XA"
   },
   "source": [
    "## Hyperparameters search with optuna"
   ]
  },
  {
   "cell_type": "code",
   "execution_count": 53,
   "metadata": {
    "colab": {
     "base_uri": "https://localhost:8080/"
    },
    "id": "gM0xIJXn2-1g",
    "outputId": "653f2dee-a66c-48e7-f684-a39250d40653"
   },
   "outputs": [
    {
     "name": "stderr",
     "output_type": "stream",
     "text": [
      "[I 2023-06-06 21:09:08,813] A new study created in memory with name: no-name-1a7c4e79-525e-4888-91f3-2b9a9b01735b\n",
      "[I 2023-06-06 21:09:09,872] Trial 0 finished with value: 0.6896551724137931 and parameters: {'analyzer': 'char_wb', 'ngram_range': (2, 2), 'C': 6.874761416523821, 'max_iter': 193, 'solver': 'newton-cholesky'}. Best is trial 0 with value: 0.6896551724137931.\n",
      "[I 2023-06-06 21:09:10,016] Trial 1 finished with value: 0.64 and parameters: {'analyzer': 'char', 'ngram_range': (2, 3), 'C': 2.574007375051231, 'max_iter': 374, 'solver': 'liblinear'}. Best is trial 0 with value: 0.6896551724137931.\n",
      "[I 2023-06-06 21:09:10,108] Trial 2 finished with value: 0.6923076923076923 and parameters: {'analyzer': 'char_wb', 'ngram_range': (2, 3), 'C': 2.1066233832363688, 'max_iter': 379, 'solver': 'liblinear'}. Best is trial 2 with value: 0.6923076923076923.\n",
      "[I 2023-06-06 21:09:10,215] Trial 3 finished with value: 0.7333333333333334 and parameters: {'analyzer': 'char', 'ngram_range': (1, 2), 'C': 8.54476227261293, 'max_iter': 471, 'solver': 'saga'}. Best is trial 3 with value: 0.7333333333333334.\n",
      "[I 2023-06-06 21:09:10,275] Trial 4 finished with value: 0.6896551724137931 and parameters: {'analyzer': 'char_wb', 'ngram_range': (2, 2), 'C': 7.30750818401664, 'max_iter': 341, 'solver': 'saga'}. Best is trial 3 with value: 0.7333333333333334.\n",
      "[I 2023-06-06 21:09:10,508] Trial 5 finished with value: 0.64 and parameters: {'analyzer': 'char', 'ngram_range': (2, 4), 'C': 6.6347910413853475, 'max_iter': 440, 'solver': 'saga'}. Best is trial 3 with value: 0.7333333333333334.\n",
      "[I 2023-06-06 21:09:10,530] Trial 6 finished with value: 0.3157894736842105 and parameters: {'analyzer': 'char_wb', 'ngram_range': (1, 1), 'C': 1.8249828165498478, 'max_iter': 256, 'solver': 'liblinear'}. Best is trial 3 with value: 0.7333333333333334.\n",
      "[I 2023-06-06 21:11:56,531] Trial 7 finished with value: 0.0 and parameters: {'analyzer': 'word', 'ngram_range': (2, 4), 'C': 2.681112859380946, 'max_iter': 326, 'solver': 'newton-cholesky'}. Best is trial 3 with value: 0.7333333333333334.\n",
      "[I 2023-06-06 21:11:56,580] Trial 8 finished with value: 0.0 and parameters: {'analyzer': 'word', 'ngram_range': (2, 2), 'C': 0.4411224552198247, 'max_iter': 365, 'solver': 'newton-cg'}. Best is trial 3 with value: 0.7333333333333334.\n",
      "[I 2023-06-06 21:11:56,646] Trial 9 finished with value: 0.64 and parameters: {'analyzer': 'char', 'ngram_range': (2, 3), 'C': 3.401996250631937, 'max_iter': 112, 'solver': 'liblinear'}. Best is trial 3 with value: 0.7333333333333334.\n",
      "[I 2023-06-06 21:11:56,691] Trial 10 finished with value: 0.7333333333333334 and parameters: {'analyzer': 'char', 'ngram_range': (1, 2), 'C': 9.83451437151026, 'max_iter': 498, 'solver': 'lbfgs'}. Best is trial 3 with value: 0.7333333333333334.\n",
      "[I 2023-06-06 21:11:56,733] Trial 11 finished with value: 0.7333333333333334 and parameters: {'analyzer': 'char', 'ngram_range': (1, 2), 'C': 9.555155935901308, 'max_iter': 479, 'solver': 'lbfgs'}. Best is trial 3 with value: 0.7333333333333334.\n",
      "[I 2023-06-06 21:11:56,774] Trial 12 finished with value: 0.7333333333333334 and parameters: {'analyzer': 'char', 'ngram_range': (1, 2), 'C': 9.995238231801169, 'max_iter': 467, 'solver': 'lbfgs'}. Best is trial 3 with value: 0.7333333333333334.\n",
      "[I 2023-06-06 21:11:56,948] Trial 13 finished with value: 0.64 and parameters: {'analyzer': 'char', 'ngram_range': (2, 5), 'C': 8.723917720153972, 'max_iter': 445, 'solver': 'sag'}. Best is trial 3 with value: 0.7333333333333334.\n",
      "[I 2023-06-06 21:11:57,049] Trial 14 finished with value: 0.6896551724137931 and parameters: {'analyzer': 'char', 'ngram_range': (1, 2), 'C': 8.260060191788595, 'max_iter': 493, 'solver': 'saga'}. Best is trial 3 with value: 0.7333333333333334.\n",
      "[I 2023-06-06 21:11:57,087] Trial 15 finished with value: 0.6153846153846154 and parameters: {'analyzer': 'char', 'ngram_range': (1, 2), 'C': 5.359922804080696, 'max_iter': 416, 'solver': 'lbfgs'}. Best is trial 3 with value: 0.7333333333333334.\n",
      "[I 2023-06-06 21:11:57,127] Trial 16 finished with value: 0.6153846153846154 and parameters: {'analyzer': 'word', 'ngram_range': (1, 2), 'C': 8.909756833433335, 'max_iter': 270, 'solver': 'sag'}. Best is trial 3 with value: 0.7333333333333334.\n",
      "[I 2023-06-06 21:11:57,264] Trial 17 finished with value: 0.64 and parameters: {'analyzer': 'char', 'ngram_range': (2, 5), 'C': 9.864900373045753, 'max_iter': 499, 'solver': 'newton-cg'}. Best is trial 3 with value: 0.7333333333333334.\n",
      "[I 2023-06-06 21:11:57,301] Trial 18 finished with value: 0.56 and parameters: {'analyzer': 'char', 'ngram_range': (1, 1), 'C': 7.866289882998588, 'max_iter': 405, 'solver': 'saga'}. Best is trial 3 with value: 0.7333333333333334.\n",
      "[I 2023-06-06 21:11:57,353] Trial 19 finished with value: 0.6153846153846154 and parameters: {'analyzer': 'word', 'ngram_range': (1, 2), 'C': 6.235916731744897, 'max_iter': 193, 'solver': 'lbfgs'}. Best is trial 3 with value: 0.7333333333333334.\n",
      "[I 2023-06-06 21:11:57,450] Trial 20 finished with value: 0.6896551724137931 and parameters: {'analyzer': 'char', 'ngram_range': (1, 2), 'C': 7.847465437234271, 'max_iter': 418, 'solver': 'saga'}. Best is trial 3 with value: 0.7333333333333334.\n",
      "[I 2023-06-06 21:11:57,490] Trial 21 finished with value: 0.6896551724137931 and parameters: {'analyzer': 'char', 'ngram_range': (1, 2), 'C': 9.253472560939388, 'max_iter': 471, 'solver': 'lbfgs'}. Best is trial 3 with value: 0.7333333333333334.\n",
      "[I 2023-06-06 21:11:57,530] Trial 22 finished with value: 0.6896551724137931 and parameters: {'analyzer': 'char', 'ngram_range': (1, 2), 'C': 9.26082998664217, 'max_iter': 459, 'solver': 'lbfgs'}. Best is trial 3 with value: 0.7333333333333334.\n",
      "[I 2023-06-06 21:11:57,570] Trial 23 finished with value: 0.7333333333333334 and parameters: {'analyzer': 'char', 'ngram_range': (1, 2), 'C': 9.900011692378408, 'max_iter': 497, 'solver': 'lbfgs'}. Best is trial 3 with value: 0.7333333333333334.\n",
      "[I 2023-06-06 21:11:57,612] Trial 24 finished with value: 0.6896551724137931 and parameters: {'analyzer': 'char', 'ngram_range': (1, 2), 'C': 8.290649048902534, 'max_iter': 424, 'solver': 'lbfgs'}. Best is trial 3 with value: 0.7333333333333334.\n",
      "[I 2023-06-06 21:11:57,654] Trial 25 finished with value: 0.6896551724137931 and parameters: {'analyzer': 'char', 'ngram_range': (1, 2), 'C': 8.917230362848517, 'max_iter': 467, 'solver': 'lbfgs'}. Best is trial 3 with value: 0.7333333333333334.\n",
      "[I 2023-06-06 21:11:57,740] Trial 26 finished with value: 0.6923076923076923 and parameters: {'analyzer': 'char', 'ngram_range': (2, 4), 'C': 7.25664962160547, 'max_iter': 399, 'solver': 'newton-cg'}. Best is trial 3 with value: 0.7333333333333334.\n",
      "[I 2023-06-06 21:11:57,760] Trial 27 finished with value: 0.5833333333333334 and parameters: {'analyzer': 'char', 'ngram_range': (1, 1), 'C': 9.31972686602197, 'max_iter': 294, 'solver': 'newton-cholesky'}. Best is trial 3 with value: 0.7333333333333334.\n",
      "[I 2023-06-06 21:11:57,881] Trial 28 finished with value: 0.7142857142857143 and parameters: {'analyzer': 'char_wb', 'ngram_range': (2, 5), 'C': 8.031486168577173, 'max_iter': 440, 'solver': 'sag'}. Best is trial 3 with value: 0.7333333333333334.\n",
      "[I 2023-06-06 21:12:07,138] Trial 29 finished with value: 0.1111111111111111 and parameters: {'analyzer': 'word', 'ngram_range': (2, 2), 'C': 5.801116590107427, 'max_iter': 207, 'solver': 'newton-cholesky'}. Best is trial 3 with value: 0.7333333333333334.\n",
      "[I 2023-06-06 21:12:07,277] Trial 30 finished with value: 0.4800000000000001 and parameters: {'analyzer': 'char_wb', 'ngram_range': (1, 2), 'C': 7.264639722754229, 'max_iter': 125, 'solver': 'saga'}. Best is trial 3 with value: 0.7333333333333334.\n",
      "[I 2023-06-06 21:12:07,341] Trial 31 finished with value: 0.7333333333333334 and parameters: {'analyzer': 'char', 'ngram_range': (1, 2), 'C': 9.831680778826168, 'max_iter': 472, 'solver': 'lbfgs'}. Best is trial 3 with value: 0.7333333333333334.\n",
      "[I 2023-06-06 21:12:07,383] Trial 32 finished with value: 0.7333333333333334 and parameters: {'analyzer': 'char', 'ngram_range': (1, 2), 'C': 9.951783815324452, 'max_iter': 476, 'solver': 'lbfgs'}. Best is trial 3 with value: 0.7333333333333334.\n",
      "[I 2023-06-06 21:12:07,445] Trial 33 finished with value: 0.7857142857142857 and parameters: {'analyzer': 'char', 'ngram_range': (2, 3), 'C': 8.515864014557286, 'max_iter': 393, 'solver': 'lbfgs'}. Best is trial 33 with value: 0.7857142857142857.\n",
      "[I 2023-06-06 21:12:07,510] Trial 34 finished with value: 0.7857142857142857 and parameters: {'analyzer': 'char', 'ngram_range': (2, 3), 'C': 8.53135093165877, 'max_iter': 385, 'solver': 'lbfgs'}. Best is trial 33 with value: 0.7857142857142857.\n",
      "[I 2023-06-06 21:12:07,573] Trial 35 finished with value: 0.7857142857142857 and parameters: {'analyzer': 'char', 'ngram_range': (2, 3), 'C': 8.586853364455976, 'max_iter': 364, 'solver': 'lbfgs'}. Best is trial 33 with value: 0.7857142857142857.\n",
      "[I 2023-06-06 21:12:07,705] Trial 36 finished with value: 0.6896551724137931 and parameters: {'analyzer': 'char_wb', 'ngram_range': (2, 3), 'C': 6.795724145715548, 'max_iter': 354, 'solver': 'saga'}. Best is trial 33 with value: 0.7857142857142857.\n",
      "[I 2023-06-06 21:12:07,754] Trial 37 finished with value: 0.7857142857142857 and parameters: {'analyzer': 'char', 'ngram_range': (2, 3), 'C': 7.567314799667075, 'max_iter': 385, 'solver': 'liblinear'}. Best is trial 33 with value: 0.7857142857142857.\n",
      "[I 2023-06-06 21:12:07,803] Trial 38 finished with value: 0.7857142857142857 and parameters: {'analyzer': 'char', 'ngram_range': (2, 3), 'C': 7.65093145411936, 'max_iter': 391, 'solver': 'liblinear'}. Best is trial 33 with value: 0.7857142857142857.\n",
      "[I 2023-06-06 21:12:07,852] Trial 39 finished with value: 0.7857142857142857 and parameters: {'analyzer': 'char', 'ngram_range': (2, 3), 'C': 8.697309502239932, 'max_iter': 319, 'solver': 'liblinear'}. Best is trial 33 with value: 0.7857142857142857.\n",
      "[I 2023-06-06 21:12:07,903] Trial 40 finished with value: 0.6896551724137931 and parameters: {'analyzer': 'char_wb', 'ngram_range': (2, 3), 'C': 8.44418245649061, 'max_iter': 376, 'solver': 'liblinear'}. Best is trial 33 with value: 0.7857142857142857.\n",
      "[I 2023-06-06 21:12:07,952] Trial 41 finished with value: 0.7857142857142857 and parameters: {'analyzer': 'char', 'ngram_range': (2, 3), 'C': 7.587452614354402, 'max_iter': 389, 'solver': 'liblinear'}. Best is trial 33 with value: 0.7857142857142857.\n",
      "[I 2023-06-06 21:12:08,000] Trial 42 finished with value: 0.7857142857142857 and parameters: {'analyzer': 'char', 'ngram_range': (2, 3), 'C': 7.487617389884746, 'max_iter': 346, 'solver': 'liblinear'}. Best is trial 33 with value: 0.7857142857142857.\n",
      "[I 2023-06-06 21:12:08,050] Trial 43 finished with value: 0.7407407407407406 and parameters: {'analyzer': 'char', 'ngram_range': (2, 3), 'C': 6.752957780206411, 'max_iter': 367, 'solver': 'liblinear'}. Best is trial 33 with value: 0.7857142857142857.\n",
      "[I 2023-06-06 21:12:08,099] Trial 44 finished with value: 0.7857142857142857 and parameters: {'analyzer': 'char', 'ngram_range': (2, 3), 'C': 8.078670566059374, 'max_iter': 325, 'solver': 'liblinear'}. Best is trial 33 with value: 0.7857142857142857.\n",
      "[I 2023-06-06 21:12:08,148] Trial 45 finished with value: 0.7407407407407406 and parameters: {'analyzer': 'char', 'ngram_range': (2, 3), 'C': 7.101965934670752, 'max_iter': 391, 'solver': 'liblinear'}. Best is trial 33 with value: 0.7857142857142857.\n",
      "[I 2023-06-06 21:12:08,191] Trial 46 finished with value: 0.1111111111111111 and parameters: {'analyzer': 'word', 'ngram_range': (2, 3), 'C': 6.2913896499892275, 'max_iter': 299, 'solver': 'liblinear'}. Best is trial 33 with value: 0.7857142857142857.\n",
      "[I 2023-06-06 21:12:08,281] Trial 47 finished with value: 0.7407407407407406 and parameters: {'analyzer': 'char', 'ngram_range': (2, 3), 'C': 7.686033984286782, 'max_iter': 354, 'solver': 'lbfgs'}. Best is trial 33 with value: 0.7857142857142857.\n",
      "[I 2023-06-06 21:12:12,887] Trial 48 finished with value: 0.7857142857142857 and parameters: {'analyzer': 'char', 'ngram_range': (2, 3), 'C': 8.581470766113977, 'max_iter': 377, 'solver': 'newton-cholesky'}. Best is trial 33 with value: 0.7857142857142857.\n",
      "[I 2023-06-06 21:12:13,015] Trial 49 finished with value: 0.7857142857142857 and parameters: {'analyzer': 'char', 'ngram_range': (2, 3), 'C': 9.010899492265747, 'max_iter': 340, 'solver': 'newton-cg'}. Best is trial 33 with value: 0.7857142857142857.\n"
     ]
    },
    {
     "data": {
      "text/plain": [
       "{'analyzer': 'char',\n",
       " 'ngram_range': (2, 3),\n",
       " 'C': 8.515864014557286,\n",
       " 'max_iter': 393,\n",
       " 'solver': 'lbfgs'}"
      ]
     },
     "execution_count": 53,
     "metadata": {},
     "output_type": "execute_result"
    }
   ],
   "source": [
    "def callback(study, trial):\n",
    "    if study.best_trial.number == trial.number:\n",
    "        study.set_user_attr(key=\"best_model\", value=trial.user_attrs[\"best_model\"])\n",
    "        \n",
    "def objective(trial):\n",
    "    vect_params = {\n",
    "        \"analyzer\": trial.suggest_categorical(\"analyzer\", [\"word\", \"char\", \"char_wb\"]),\n",
    "        \"ngram_range\": trial.suggest_categorical(\n",
    "            \"ngram_range\", [(1, 1), (1, 2), (2, 2), (2, 3), (2, 4), (2, 5)]\n",
    "        )\n",
    "    }\n",
    "    logreg_params = {\n",
    "        \"C\": trial.suggest_float(\"C\", 0.01, 10),\n",
    "        \"max_iter\": trial.suggest_int(\"max_iter\", 100, 500),\n",
    "        \"solver\": trial.suggest_categorical(\n",
    "            \"solver\", [\"lbfgs\", \"liblinear\", \"newton-cg\", \"newton-cholesky\", \"sag\", \"saga\"]\n",
    "        ),\n",
    "        \"random_state\": SEED\n",
    "    }\n",
    "    pipe = Pipeline([\n",
    "        ('vectorizer', TfidfVectorizer(**vect_params)), \n",
    "        ('model', LogisticRegression(**logreg_params))\n",
    "    ])\n",
    "\n",
    "    pipe.fit(train['comment'], train['isHate'])\n",
    "    trial.set_user_attr(key=\"best_model\", value=pipe)\n",
    "    val_preds = pipe.predict(val['comment'])\n",
    "    metric = f1_score(val['isHate'], val_preds)\n",
    "    return metric\n",
    "\n",
    "study = optuna.create_study(direction='maximize')\n",
    "study.optimize(objective, n_trials=50, callbacks=[callback])\n",
    "\n",
    "best_model=study.user_attrs[\"best_model\"]\n",
    "study.best_params"
   ]
  },
  {
   "cell_type": "code",
   "execution_count": 54,
   "metadata": {},
   "outputs": [],
   "source": [
    "test_preds = best_model.predict(test['comment'])"
   ]
  },
  {
   "cell_type": "code",
   "execution_count": 58,
   "metadata": {
    "id": "0NKZi8QMr27Z"
   },
   "outputs": [
    {
     "data": {
      "text/html": [
       "<pre style=\"white-space:pre;overflow-x:auto;line-height:normal;font-family:Menlo,'DejaVu Sans Mono',consolas,'Courier New',monospace\"></pre>\n"
      ],
      "text/plain": []
     },
     "metadata": {},
     "output_type": "display_data"
    },
    {
     "name": "stderr",
     "output_type": "stream",
     "text": [
      "WARNING: The following untracked files were present in the workspace before saving but will not be included in the experiment commit:\n",
      "\trequirements.txt, .gitignore, .dvcignore, HW1_experiment_management/experiment.ipynb, HW1_experiment_management/data/Ethos_Dataset_Binary.csv.dvc, HW1_experiment_management/data/.gitignore, .dvc/config, .dvc/.gitignore\n"
     ]
    }
   ],
   "source": [
    "joblib.dump(best_model, 'best_model.pkl')\n",
    "\n",
    "with Live(save_dvc_exp=True) as live:\n",
    "    for param_name, param_value in study.best_params.items():\n",
    "        live.log_param(param_name, param_value)\n",
    "    live.log_metric(\"recall\", recall_score(test['isHate'], test_preds))\n",
    "    live.log_metric(\"precision\", precision_score(test['isHate'], test_preds))\n",
    "    live.log_metric(\"f1_score\", f1_score(test['isHate'], test_preds))\n",
    "    live.log_artifact(\"best_model.pkl\", type=\"model\", name='baseline', desc=\"tfidf+logreg\")"
   ]
  },
  {
   "cell_type": "code",
   "execution_count": 57,
   "metadata": {},
   "outputs": [
    {
     "data": {
      "text/plain": [
       "0.4800000000000001"
      ]
     },
     "execution_count": 57,
     "metadata": {},
     "output_type": "execute_result"
    }
   ],
   "source": [
    "f1_score(test['isHate'], test_preds)"
   ]
  }
 ],
 "metadata": {
  "colab": {
   "provenance": []
  },
  "kernelspec": {
   "display_name": "Python 3 (ipykernel)",
   "language": "python",
   "name": "python3"
  },
  "language_info": {
   "codemirror_mode": {
    "name": "ipython",
    "version": 3
   },
   "file_extension": ".py",
   "mimetype": "text/x-python",
   "name": "python",
   "nbconvert_exporter": "python",
   "pygments_lexer": "ipython3",
   "version": "3.9.6"
  }
 },
 "nbformat": 4,
 "nbformat_minor": 4
}
